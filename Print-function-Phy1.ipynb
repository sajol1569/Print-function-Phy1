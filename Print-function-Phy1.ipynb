{
  "cells": [
    {
      "cell_type": "code",
      "execution_count": null,
      "metadata": {
        "colab": {
          "base_uri": "https://localhost:8080/"
        },
        "id": "R-z-6p6ltUX6",
        "outputId": "7cbc6f67-3830-4d29-badc-90d151c6e419"
      },
      "outputs": [
        {
          "name": "stdout",
          "output_type": "stream",
          "text": [
            "Hello world\n"
          ]
        }
      ],
      "source": [
        "print(\"Hello world\")"
      ]
    },
    {
      "cell_type": "code",
      "execution_count": null,
      "metadata": {
        "colab": {
          "base_uri": "https://localhost:8080/"
        },
        "id": "BdidpuGfZSNO",
        "outputId": "2ff70671-167b-4eb5-bcf1-25ef346b8520"
      },
      "outputs": [
        {
          "name": "stdout",
          "output_type": "stream",
          "text": [
            "diamond\n"
          ]
        }
      ],
      "source": [
        "print(\"diamond\")"
      ]
    },
    {
      "cell_type": "code",
      "execution_count": null,
      "metadata": {
        "colab": {
          "base_uri": "https://localhost:8080/"
        },
        "id": "LQLFN0uSj0yf",
        "outputId": "31bc5e7d-dfc6-4c84-d6a2-85e91a3ec600"
      },
      "outputs": [
        {
          "name": "stdout",
          "output_type": "stream",
          "text": [
            "glory\n"
          ]
        }
      ],
      "source": [
        "print(\"glory\")"
      ]
    },
    {
      "cell_type": "code",
      "execution_count": null,
      "metadata": {
        "colab": {
          "base_uri": "https://localhost:8080/"
        },
        "id": "_0muEi1whhVA",
        "outputId": "44e4711b-4230-4c4b-bf2a-be79aba41945"
      },
      "outputs": [
        {
          "name": "stdout",
          "output_type": "stream",
          "text": [
            "powerful\n"
          ]
        }
      ],
      "source": [
        "print(\"powerful\")"
      ]
    },
    {
      "cell_type": "code",
      "execution_count": null,
      "metadata": {
        "colab": {
          "base_uri": "https://localhost:8080/"
        },
        "id": "hfxRD01Fj6K-",
        "outputId": "388be96f-0c71-4e6c-bae3-c136585bd4ad"
      },
      "outputs": [
        {
          "name": "stdout",
          "output_type": "stream",
          "text": [
            "hello world & welcome to 60 days python % "
          ]
        }
      ],
      "source": [
        "print(\"hello world\", \"welcome to 60 days python\", sep=\" & \", end=\" % \")"
      ]
    },
    {
      "cell_type": "code",
      "execution_count": null,
      "metadata": {
        "colab": {
          "base_uri": "https://localhost:8080/"
        },
        "id": "LpMgzkM9s4Px",
        "outputId": "5e2664b0-3781-44ea-87b4-07a5d4f1c1fe"
      },
      "outputs": [
        {
          "name": "stdout",
          "output_type": "stream",
          "text": [
            "hello world\n"
          ]
        }
      ],
      "source": [
        "var = \"hello world\"\n",
        "print(var)"
      ]
    },
    {
      "cell_type": "code",
      "execution_count": null,
      "metadata": {
        "colab": {
          "base_uri": "https://localhost:8080/"
        },
        "id": "zsahKbpEulJR",
        "outputId": "a310a877-a05a-488b-a4fd-bbde65f84b77"
      },
      "outputs": [
        {
          "name": "stdout",
          "output_type": "stream",
          "text": [
            "My Sentense is hello world\n"
          ]
        }
      ],
      "source": [
        "var = \"hello world\"\n",
        "print(\"My Sentense is \"+var)"
      ]
    },
    {
      "cell_type": "code",
      "execution_count": null,
      "metadata": {
        "colab": {
          "base_uri": "https://localhost:8080/"
        },
        "id": "zBpIbfYuXGVk",
        "outputId": "69d80366-9b3d-45eb-e321-eec89e541e11"
      },
      "outputs": [
        {
          "name": "stdout",
          "output_type": "stream",
          "text": [
            "My Sentense is hello world\n"
          ]
        }
      ],
      "source": [
        "var = \"hello world\"\n",
        "print(\"My Sentense is \"+var)"
      ]
    },
    {
      "cell_type": "code",
      "execution_count": null,
      "metadata": {
        "id": "Upy9wjvfYkWM"
      },
      "outputs": [],
      "source": [
        "var = \"hello world\"\n"
      ]
    },
    {
      "cell_type": "code",
      "execution_count": null,
      "metadata": {
        "colab": {
          "base_uri": "https://localhost:8080/"
        },
        "id": "sv8fL6DwZSrs",
        "outputId": "5ac32918-bccd-48ec-b83d-61cef9dd127a"
      },
      "outputs": [
        {
          "data": {
            "text/plain": [
              "140063668766640"
            ]
          },
          "execution_count": 10,
          "metadata": {},
          "output_type": "execute_result"
        }
      ],
      "source": [
        "id(var)"
      ]
    },
    {
      "cell_type": "code",
      "execution_count": null,
      "metadata": {
        "id": "SRfchHKQNekH"
      },
      "outputs": [],
      "source": [
        "x = 10\n"
      ]
    },
    {
      "cell_type": "code",
      "execution_count": null,
      "metadata": {
        "colab": {
          "base_uri": "https://localhost:8080/"
        },
        "id": "PT1Kf1ZnNxZ2",
        "outputId": "7ca9382f-fcbe-4f37-ddb6-e4936293064a"
      },
      "outputs": [
        {
          "data": {
            "text/plain": [
              "10"
            ]
          },
          "execution_count": 12,
          "metadata": {},
          "output_type": "execute_result"
        }
      ],
      "source": [
        "x"
      ]
    },
    {
      "cell_type": "code",
      "execution_count": null,
      "metadata": {
        "id": "oqrcl5C5N0TG"
      },
      "outputs": [],
      "source": [
        "x,y,z = 10,20,30"
      ]
    },
    {
      "cell_type": "code",
      "execution_count": null,
      "metadata": {
        "colab": {
          "base_uri": "https://localhost:8080/"
        },
        "id": "nl5O6nwVN6yN",
        "outputId": "85a7628d-09b9-4d21-d0d5-4edaf505cce1"
      },
      "outputs": [
        {
          "data": {
            "text/plain": [
              "20"
            ]
          },
          "execution_count": 14,
          "metadata": {},
          "output_type": "execute_result"
        }
      ],
      "source": [
        "y"
      ]
    },
    {
      "cell_type": "code",
      "execution_count": null,
      "metadata": {
        "id": "7TtiojZzN80V"
      },
      "outputs": [],
      "source": [
        "VARSITYID = 1001"
      ]
    },
    {
      "cell_type": "code",
      "execution_count": null,
      "metadata": {
        "id": "u0aWrRnoR_we"
      },
      "outputs": [],
      "source": [
        "varsity_id = 1020\n"
      ]
    },
    {
      "cell_type": "code",
      "execution_count": null,
      "metadata": {
        "colab": {
          "base_uri": "https://localhost:8080/"
        },
        "id": "ayHZCknfSO7P",
        "outputId": "5fadcb8d-4c41-4108-a3d9-76c5f8d1d36c"
      },
      "outputs": [
        {
          "data": {
            "text/plain": [
              "1020"
            ]
          },
          "execution_count": 17,
          "metadata": {},
          "output_type": "execute_result"
        }
      ],
      "source": [
        "varsity_id"
      ]
    },
    {
      "cell_type": "code",
      "execution_count": null,
      "metadata": {
        "colab": {
          "base_uri": "https://localhost:8080/"
        },
        "id": "ZJJ0iEs4SRIW",
        "outputId": "5cff5157-c234-446c-add0-e354f0472d82"
      },
      "outputs": [
        {
          "data": {
            "text/plain": [
              "1001"
            ]
          },
          "execution_count": 18,
          "metadata": {},
          "output_type": "execute_result"
        }
      ],
      "source": [
        "VARSITYID"
      ]
    }
  ],
  "metadata": {
    "colab": {
      "provenance": []
    },
    "kernelspec": {
      "display_name": "Python 3",
      "name": "python3"
    },
    "language_info": {
      "name": "python"
    }
  },
  "nbformat": 4,
  "nbformat_minor": 0
}
